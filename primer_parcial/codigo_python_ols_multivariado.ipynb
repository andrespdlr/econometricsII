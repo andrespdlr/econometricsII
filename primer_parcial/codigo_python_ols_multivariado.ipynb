{
 "cells": [
  {
   "cell_type": "markdown",
   "metadata": {},
   "source": [
    "# Lecture adicional "
   ]
  },
  {
   "cell_type": "code",
   "execution_count": 10,
   "metadata": {},
   "outputs": [],
   "source": [
    "import pandas as pd\n",
    "import statsmodels.api as sm"
   ]
  },
  {
   "cell_type": "code",
   "execution_count": 5,
   "metadata": {},
   "outputs": [],
   "source": [
    "pib_us = pd.read_excel('./pib_us_modelo_python.xlsx')"
   ]
  },
  {
   "cell_type": "code",
   "execution_count": 8,
   "metadata": {},
   "outputs": [
    {
     "name": "stdout",
     "output_type": "stream",
     "text": [
      "                            OLS Regression Results                            \n",
      "==============================================================================\n",
      "Dep. Variable:                     yt   R-squared:                       0.140\n",
      "Model:                            OLS   Adj. R-squared:                  0.133\n",
      "Method:                 Least Squares   F-statistic:                     23.18\n",
      "Date:                Tue, 18 Feb 2020   Prob (F-statistic):           4.67e-10\n",
      "Time:                        13:37:26   Log-Likelihood:                -368.51\n",
      "No. Observations:                 289   AIC:                             743.0\n",
      "Df Residuals:                     286   BIC:                             754.0\n",
      "Df Model:                           2                                         \n",
      "Covariance Type:            nonrobust                                         \n",
      "==============================================================================\n",
      "                 coef    std err          t      P>|t|      [0.025      0.975]\n",
      "------------------------------------------------------------------------------\n",
      "const          0.4492      0.073      6.161      0.000       0.306       0.593\n",
      "yt-1           0.3155      0.059      5.376      0.000       0.200       0.431\n",
      "y_t-2          0.1150      0.059      1.963      0.051      -0.000       0.230\n",
      "==============================================================================\n",
      "Omnibus:                       19.135   Durbin-Watson:                   1.960\n",
      "Prob(Omnibus):                  0.000   Jarque-Bera (JB):               51.985\n",
      "Skew:                           0.196   Prob(JB):                     5.15e-12\n",
      "Kurtosis:                       5.040   Cond. No.                         2.77\n",
      "==============================================================================\n",
      "\n",
      "Warnings:\n",
      "[1] Standard Errors assume that the covariance matrix of the errors is correctly specified.\n"
     ]
    }
   ],
   "source": [
    "X = pib_us[['yt-1', 'y_t-2']]\n",
    "Y = pib_us['yt']\n",
    "X = sm.add_constant(X)\n",
    "model = sm.OLS(Y, X).fit()\n",
    "print(model.summary())"
   ]
  }
 ],
 "metadata": {
  "kernelspec": {
   "display_name": "Python 3",
   "language": "python",
   "name": "python3"
  },
  "language_info": {
   "codemirror_mode": {
    "name": "ipython",
    "version": 3
   },
   "file_extension": ".py",
   "mimetype": "text/x-python",
   "name": "python",
   "nbconvert_exporter": "python",
   "pygments_lexer": "ipython3",
   "version": "3.7.3"
  }
 },
 "nbformat": 4,
 "nbformat_minor": 2
}
