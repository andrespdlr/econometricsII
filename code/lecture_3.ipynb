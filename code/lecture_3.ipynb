{
 "cells": [
  {
   "cell_type": "markdown",
   "metadata": {},
   "source": [
    "# Finite Distributed Lag Models"
   ]
  },
  {
   "cell_type": "code",
   "execution_count": 3,
   "metadata": {},
   "outputs": [],
   "source": [
    "import numpy as np \n",
    "import sqlalchemy\n",
    "import pandas as pd\n",
    "from pymongo import MongoClient\n",
    "import matplotlib.pyplot as plt\n",
    "plt.style.use('ggplot')\n",
    "import statsmodels.api as sm"
   ]
  },
  {
   "cell_type": "code",
   "execution_count": 2,
   "metadata": {},
   "outputs": [],
   "source": [
    "def download_data_from_mongoatlas(database, table, query={}):\n",
    "    username = 'entropy_scholar'\n",
    "    password = 'OCN4kEzbsW5lqQ2W'\n",
    "    url = 'mongodb+srv://{}:{}@entropy-sfneo.mongodb.net/test?retryWrites=true&w=majority'.format(username, password)\n",
    "    client = MongoClient(url)    \n",
    "    db = client[database]\n",
    "    collection = db[table]\n",
    "    df = pd.DataFrame(list(collection.find(query))).drop('_id', axis=1)\n",
    "    try:\n",
    "        df = df.sort_values(['date','clave_ent'], ascending=True)\n",
    "    except:\n",
    "        df = df.sort_values(['date'], ascending=True)\n",
    "    df = df.reset_index(drop=True)\n",
    "    return df"
   ]
  },
  {
   "cell_type": "code",
   "execution_count": 4,
   "metadata": {},
   "outputs": [],
   "source": [
    "def growth_lag(data_original, variable, lag):\n",
    "    data = data_original.copy()\n",
    "    data[variable] = data[variable].astype(float)\n",
    "    data['lag'] = data.shift(lag)[variable]\n",
    "    data[variable+'_growth_lag_'+str(lag)] = (data[variable]/data['lag'] - 1)*100\n",
    "    data = data.drop('lag', axis=1)\n",
    "    return data"
   ]
  },
  {
   "cell_type": "code",
   "execution_count": 24,
   "metadata": {},
   "outputs": [],
   "source": [
    "columna_pib = 'pib'\n",
    "pib = download_data_from_mongoatlas('inegi_api', 'pib_desestacionalizado_trimestral_a_precios_2013_agregado_nacional')\n",
    "pib = pib[['date', columna_pib]]\n",
    "pib = growth_lag(pib, columna_pib, 1)"
   ]
  },
  {
   "cell_type": "code",
   "execution_count": 25,
   "metadata": {},
   "outputs": [],
   "source": [
    "pib_lagged_1 = []\n",
    "for i in range(len(pib)):\n",
    "    try:\n",
    "        pib_1 = pib['{}_growth_lag_1'.format(columna_pib)][i - 1]\n",
    "    except:\n",
    "        pib_1 = np.nan\n",
    "    pib_lagged_1.append(pib_1)\n",
    "pib['{}_lagged_1'.format(columna_pib)] = pib_lagged_1\n",
    "pib = pib.dropna(axis=0, how='any')"
   ]
  },
  {
   "cell_type": "code",
   "execution_count": 26,
   "metadata": {},
   "outputs": [
    {
     "name": "stdout",
     "output_type": "stream",
     "text": [
      "                            OLS Regression Results                            \n",
      "==============================================================================\n",
      "Dep. Variable:       pib_growth_lag_1   R-squared:                       0.171\n",
      "Model:                            OLS   Adj. R-squared:                  0.160\n",
      "Method:                 Least Squares   F-statistic:                     15.70\n",
      "Date:                Wed, 05 Feb 2020   Prob (F-statistic):           0.000166\n",
      "Time:                        21:13:28   Log-Likelihood:                -132.99\n",
      "No. Observations:                  78   AIC:                             270.0\n",
      "Df Residuals:                      76   BIC:                             274.7\n",
      "Df Model:                           1                                         \n",
      "Covariance Type:            nonrobust                                         \n",
      "================================================================================\n",
      "                   coef    std err          t      P>|t|      [0.025      0.975]\n",
      "--------------------------------------------------------------------------------\n",
      "const            0.3669      0.166      2.216      0.030       0.037       0.697\n",
      "pib_lagged_1     0.4137      0.104      3.963      0.000       0.206       0.622\n",
      "==============================================================================\n",
      "Omnibus:                       49.046   Durbin-Watson:                   1.768\n",
      "Prob(Omnibus):                  0.000   Jarque-Bera (JB):              283.123\n",
      "Skew:                          -1.733   Prob(JB):                     3.32e-62\n",
      "Kurtosis:                      11.666   Cond. No.                         1.87\n",
      "==============================================================================\n",
      "\n",
      "Warnings:\n",
      "[1] Standard Errors assume that the covariance matrix of the errors is correctly specified.\n"
     ]
    }
   ],
   "source": [
    "pib = pib.loc[(pib['date'] >= '1962/01') & (pib['date'] <= '2012/04')]\n",
    "X = pib['{}_lagged_1'.format(columna_pib)]\n",
    "Y = pib['{}_growth_lag_1'.format(columna_pib)]\n",
    "X = sm.add_constant(X)\n",
    "model = sm.OLS(Y, X).fit()\n",
    "print(model.summary())"
   ]
  }
 ],
 "metadata": {
  "kernelspec": {
   "display_name": "Python 3",
   "language": "python",
   "name": "python3"
  },
  "language_info": {
   "codemirror_mode": {
    "name": "ipython",
    "version": 3
   },
   "file_extension": ".py",
   "mimetype": "text/x-python",
   "name": "python",
   "nbconvert_exporter": "python",
   "pygments_lexer": "ipython3",
   "version": "3.7.3"
  }
 },
 "nbformat": 4,
 "nbformat_minor": 2
}
