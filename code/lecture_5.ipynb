{
 "cells": [
  {
   "cell_type": "markdown",
   "metadata": {},
   "source": [
    "# Modelo"
   ]
  },
  {
   "cell_type": "markdown",
   "metadata": {},
   "source": [
    "## Objetivo del Modelo: Estimar el efecto de una candidata mujer para el partido\n",
    "## p  ∈ {PAN, PRI, MORENA} en la probabilidad P() de ganar un distrito"
   ]
  },
  {
   "cell_type": "markdown",
   "metadata": {},
   "source": [
    "### ____ 1) Scraper nombres\n",
    "    \n",
    "    El objetivo de esta sección es minar la información de nombres de bebé \n",
    "    para determinar, a partir de los nombres de candidatos, si éstos fueron\n",
    "    hombres o mujeres:\n",
    "    \n",
    "    Source: https://www.planetamama.com.ar/nombres-de-bebes/buscar/todos/sexo/todos/origen/todos?page=0"
   ]
  },
  {
   "cell_type": "code",
   "execution_count": 1,
   "metadata": {},
   "outputs": [],
   "source": [
    "import json\n",
    "import pandas as pd\n",
    "import urllib\n",
    "from urllib.request import urlopen\n",
    "from bs4 import BeautifulSoup\n",
    "import re\n",
    "import numpy as np\n",
    "import matplotlib.pyplot as plt \n",
    "import unicodedata\n",
    "import statsmodels.api as sm\n",
    "import winsound\n",
    "frequency = 300\n",
    "duration = 500"
   ]
  },
  {
   "cell_type": "code",
   "execution_count": null,
   "metadata": {},
   "outputs": [],
   "source": [
    "page = 'https://www.planetamama.com.ar/nombres-de-bebes/buscar/todos/sexo/todos/origen/todos?page={}'"
   ]
  },
  {
   "cell_type": "code",
   "execution_count": null,
   "metadata": {},
   "outputs": [],
   "source": [
    "base_datos = {'Mujer': [], 'Varón': [], 'Indistinto': []}\n",
    "for i in range(137):\n",
    "    page_i = page.format(i)\n",
    "    html = urlopen(page_i).read()\n",
    "    soup = BeautifulSoup(html, \"lxml\")\n",
    "    raw = soup.get_text()\n",
    "    raw = re.split(r'[\\t\\n\\r\\xa0]+', raw)\n",
    "    origen_y_significado_index = raw.index('Origen y Significado') + 1\n",
    "    paginacion_index = raw.index('Paginación') - 1\n",
    "    raw = raw[origen_y_significado_index: paginacion_index]\n",
    "    raw = [s.strip() for s in raw]\n",
    "    raw = [s for s in raw if s != 'Ver']\n",
    "    for ii, nombre in enumerate(raw):\n",
    "        try:\n",
    "            if nombre not in ['Varón', 'Mujer', 'Indistinto']:\n",
    "                base_datos[raw[ii + 1]].append(nombre) \n",
    "        except:\n",
    "            pass\n",
    "    print(i, end=\"\\r\", flush=True)\n",
    "print('\\nDone!')\n",
    "winsound.Beep(frequency, duration)"
   ]
  },
  {
   "cell_type": "code",
   "execution_count": null,
   "metadata": {},
   "outputs": [],
   "source": [
    "def strip_accents(text):\n",
    "    '''\n",
    "    Esta función quita los acentos\n",
    "    '''\n",
    "    try:\n",
    "        text = unicode(text, 'utf-8')\n",
    "    except NameError: \n",
    "        pass\n",
    "    text = unicodedata.normalize('NFD', text)\\\n",
    "           .encode('ascii', 'ignore')\\\n",
    "           .decode(\"utf-8\")\n",
    "    return str(text)"
   ]
  },
  {
   "cell_type": "code",
   "execution_count": null,
   "metadata": {},
   "outputs": [],
   "source": [
    "# Este proceso deja una base de nombres limpia\n",
    "base_datos_nombres = {'Mujer': [], 'Varón': []}\n",
    "for k, v in base_datos.items():\n",
    "    if k != 'Indistinto':\n",
    "        for nombre in v:\n",
    "            nombre = strip_accents(nombre)\n",
    "            nombre = nombre.upper()\n",
    "            base_datos_nombres[k].append(nombre)"
   ]
  },
  {
   "cell_type": "code",
   "execution_count": null,
   "metadata": {},
   "outputs": [],
   "source": [
    "with open('base_datos_nombres.json', 'w') as f:\n",
    "    json.dump(base_datos_nombres, f, indent=4)"
   ]
  },
  {
   "cell_type": "code",
   "execution_count": 2,
   "metadata": {},
   "outputs": [],
   "source": [
    "def is_mujer(nombre):\n",
    "    '''\n",
    "    Esta función, dado un nombre, determina si\n",
    "    el candidato fue hombre (0) o mujer (1)\n",
    "    '''\n",
    "    nombre_list = nombre.split(' ')\n",
    "    count_hombres = 0\n",
    "    count_mujeres = 0\n",
    "    for w in nombre_list:\n",
    "        if w in base_datos_nombres['Mujer']:\n",
    "            count_mujeres += 1\n",
    "        else:\n",
    "            pass\n",
    "        if w in base_datos_nombres['Varón']:\n",
    "            count_hombres += 1\n",
    "        else:\n",
    "            pass\n",
    "    if count_mujeres >= count_hombres:\n",
    "        rv = 1\n",
    "    else:\n",
    "        rv = 0\n",
    "    return rv"
   ]
  },
  {
   "cell_type": "code",
   "execution_count": 3,
   "metadata": {},
   "outputs": [],
   "source": [
    "with open('./base_datos_nombres.json', 'r') as f:\n",
    "    base_datos_nombres = json.load(f)"
   ]
  },
  {
   "cell_type": "code",
   "execution_count": 73,
   "metadata": {},
   "outputs": [],
   "source": [
    "distritos = pd.read_csv('distritos_2018_2015.csv', encoding='latin1')\n",
    "distritos = distritos.fillna('SIN/DATOS')"
   ]
  },
  {
   "cell_type": "code",
   "execution_count": 74,
   "metadata": {},
   "outputs": [],
   "source": [
    "# Este proceso inserta una columna con la variable dicotómica hombre (0), mujer (1)\n",
    "distritos['candidato_pan_mujer'] = distritos['candidato_pan'].apply(is_mujer)\n",
    "distritos['candidato_pri_mujer'] = distritos['candidato_pri'].apply(is_mujer)\n",
    "distritos['candidato_morena_mujer'] = distritos['candidato_morena'].apply(is_mujer)"
   ]
  },
  {
   "cell_type": "code",
   "execution_count": 75,
   "metadata": {},
   "outputs": [],
   "source": [
    "# Este proceso inserta una columna con la variable dicotómica 1 si el partido ganó el distrito 0 otherwise\n",
    "for partido in ['PAN', 'PRI', 'MORENA']:\n",
    "    y_partido = []\n",
    "    for i in range(len(distritos)):\n",
    "        p_g = distritos['ganador_2018'][i]\n",
    "        if p_g == partido:\n",
    "            y_partido.append(1)\n",
    "        else:\n",
    "            y_partido.append(0)\n",
    "    distritos['y_{}'.format(partido.lower())] = y_partido"
   ]
  },
  {
   "cell_type": "code",
   "execution_count": 40,
   "metadata": {},
   "outputs": [],
   "source": [
    "distritos_dto = distritos.loc[(distritos['entidad'] == 11) & (distritos['distrito'] == 4)]\n",
    "distritos_dto = distritos_dto.reset_index(drop=True)"
   ]
  },
  {
   "cell_type": "code",
   "execution_count": 43,
   "metadata": {},
   "outputs": [
    {
     "data": {
      "text/plain": [
       "0.078946823"
      ]
     },
     "execution_count": 43,
     "metadata": {},
     "output_type": "execute_result"
    }
   ],
   "source": [
    "distritos_dto['diff_pan'][0]"
   ]
  },
  {
   "cell_type": "markdown",
   "metadata": {},
   "source": [
    "### ___ 2) Estimar modelo"
   ]
  },
  {
   "cell_type": "code",
   "execution_count": null,
   "metadata": {},
   "outputs": [],
   "source": [
    "p = alpha + bmujer + bpobreza + b(voto2018 - voto2015) + u"
   ]
  },
  {
   "cell_type": "markdown",
   "metadata": {},
   "source": [
    "a) $$y_{i}^{p} = G(\\alpha^{p} + \\beta_{1}^{p}*mujer_{i}^{p} + \\beta_{2}^{p}*pobreza_{i}^{p} + \\beta_{3}^{p}*voto2015_{i}^{p} + u_{i})$$\n",
    "\n",
    "b) $$y_{i}^{p} = G(\\alpha + \\beta_{1}*mujer_{i}^{p} + \\beta_{2}*pobreza_{i}^{p} + \\beta_{3}*(voto2018_{i}^{p} - voto2015_{i}^{p}) + u_{i})$$\n",
    "\n",
    "$Y_{i}^{p} = 1$ Si el partido $p$ ganó o no el distrito $i$\n",
    "\n",
    "$mujer_{i}^{p}$ 1 si el candidato del partido $p$ fue mujer en el $distrito_{i}$\n",
    "\n",
    "$pobreza_{i}$ Pobreza en el $distrito_{i}$ como porcentaje de la población total\n",
    "\n",
    "$(voto2018_{i}^{p} - voto2015_{i}^{p})$ Diferencial de votación para el partido $p$ en el distrito $i$\n",
    "\n",
    "$G(*) no son lineales en los parámetros$i$"
   ]
  },
  {
   "cell_type": "markdown",
   "metadata": {},
   "source": [
    "# Preguntas\n",
    "\n",
    "    0. Estimar las dos versiones del modelo (el DataFrame ya trae columnas diff_partido\n",
    "    (por ejemplo diff_pan) que son la diferencia expresada en:\n",
    "\n",
    "$$voto2018_{i}^{p} - voto2015_{i}^{p}$$\n",
    "    \n",
    "    Para estimar el modelo aquí está la documentación de python:\n",
    "    \n",
    "    https://www.statsmodels.org/devel/generated/statsmodels.formula.api.logit.html\n",
    "    \n",
    "    1. Cómo interpretar b1 dado que mujer es dicotómica\n",
    "\n",
    "    2. Cuál efecto de ser mujer en la probabilidad de ganar el distrito para cada partido\n",
    "    (elaborar respuesta)\n",
    "\n",
    "    3. Qué es y cómo interpretar una pseudo_R2 (sobre todo QUÉ ES?)\n",
    "\n",
    "    4. Bonus algunos descriptivos del modelo"
   ]
  },
  {
   "cell_type": "code",
   "execution_count": 78,
   "metadata": {},
   "outputs": [
    {
     "name": "stdout",
     "output_type": "stream",
     "text": [
      "Optimization terminated successfully.\n",
      "         Current function value: 0.297282\n",
      "         Iterations 8\n",
      "                           Logit Regression Results                           \n",
      "==============================================================================\n",
      "Dep. Variable:               y_morena   No. Observations:                  300\n",
      "Model:                          Logit   Df Residuals:                      296\n",
      "Method:                           MLE   Df Model:                            3\n",
      "Date:                Thu, 26 Mar 2020   Pseudo R-squ.:                  0.4747\n",
      "Time:                        07:51:47   Log-Likelihood:                -89.185\n",
      "converged:                       True   LL-Null:                       -169.79\n",
      "Covariance Type:            nonrobust   LLR p-value:                 1.004e-34\n",
      "==========================================================================================\n",
      "                             coef    std err          z      P>|z|      [0.025      0.975]\n",
      "------------------------------------------------------------------------------------------\n",
      "const                     -6.9749      1.006     -6.935      0.000      -8.946      -5.004\n",
      "candidato_morena_mujer     0.0500      0.378      0.132      0.895      -0.690       0.790\n",
      "pobreza_2015_%            -0.0078      0.950     -0.008      0.993      -1.870       1.854\n",
      "diff_morena               34.4563      4.432      7.775      0.000      25.770      43.143\n",
      "==========================================================================================\n"
     ]
    }
   ],
   "source": [
    "partido = 'morena'\n",
    "Y = distritos['y_{}'.format(partido)]\n",
    "X = distritos[['candidato_{}_mujer'.format(partido),\n",
    "               'pobreza_2015_%', 'diff_{}'.format(partido)]]\n",
    "X = sm.add_constant(X)\n",
    "model = sm.Logit(Y, X).fit()\n",
    "print(model.summary())"
   ]
  },
  {
   "cell_type": "markdown",
   "metadata": {},
   "source": [
    "    Given modern computers, from a practical perspective the most difficult aspect of\n",
    "    logit or probit models is presenting and interpreting the results."
   ]
  },
  {
   "cell_type": "markdown",
   "metadata": {},
   "source": [
    "# $\\beta_{i}$ es el $Δ$ en $P(Y=1|X)$ para un $Δ$ en $X_{i}?$"
   ]
  },
  {
   "cell_type": "code",
   "execution_count": 84,
   "metadata": {},
   "outputs": [
    {
     "data": {
      "image/png": "[encoded data removed]",
      "text/plain": [
       "<Figure size 432x288 with 1 Axes>"
      ]
     },
     "metadata": {
      "needs_background": "light"
     },
     "output_type": "display_data"
    }
   ],
   "source": [
    "x = np.linspace(-10, 10, 1000) \n",
    "z = 1/(1 + np.exp(-x)) \n",
    "  \n",
    "plt.plot(x, z) \n",
    "plt.xlabel(\"x\") \n",
    "plt.ylabel(\"Sigmoid(X)\") \n",
    "  \n",
    "plt.show() "
   ]
  },
  {
   "cell_type": "markdown",
   "metadata": {},
   "source": [
    "a) $$y_{i}^{p} = G(\\alpha + \\beta_{1}*mujer_{i}^{p} + \\beta_{2}*pobreza_{i}^{p} + \\beta_{3}*voto2015_{i}^{p} + u_{i})$$\n",
    "\n",
    "b) $$y_{i}^{p} = G(\\alpha + \\beta_{1}*mujer_{i}^{p} + \\beta_{2}*pobreza_{i}^{p} + \\beta_{3}*(voto2018_{i}^{p} - voto2015_{i}^{p}) + u_{i})$$\n",
    "\n",
    "$y_{i}^{p}$ no es lineal en $\\beta$\n",
    "\n",
    "Si $x_{i}$ es (roughly) continua:\n",
    "\n",
    "$Δ\\hat{P}(y=1|X)\\approx [g(\\hat{\\beta_{0}} + X\\hat{\\beta_{1}})\\beta_{i}]Δx_{i}$\n",
    "\n",
    "$Δ\\hat{P}(y=1|X)\\approx [g(\\hat{\\beta_{0}} + \\overline{X}\\hat{\\beta_{1}})\\beta_{i}]Δx_{i}$\n",
    "\n",
    "$$g(z) = \\frac{e^{z}}{[1 + e^{z}]^{2}}$$"
   ]
  },
  {
   "cell_type": "markdown",
   "metadata": {},
   "source": [
    "Tarea (págs 589-596 Wooldridge):\n",
    "\n",
    "### average partial effect (APE)\n",
    "### Odds ratio para $x_{i}$ discretas"
   ]
  },
  {
   "cell_type": "markdown",
   "metadata": {},
   "source": [
    "# Validación"
   ]
  },
  {
   "cell_type": "markdown",
   "metadata": {},
   "source": [
    "### ___predict (in sample)"
   ]
  },
  {
   "cell_type": "markdown",
   "metadata": {},
   "source": [
    "# predict in-sample vs out-of-sample?"
   ]
  },
  {
   "cell_type": "code",
   "execution_count": 132,
   "metadata": {},
   "outputs": [
    {
     "name": "stdout",
     "output_type": "stream",
     "text": [
      "Optimization terminated successfully.\n",
      "         Current function value: 0.297282\n",
      "         Iterations 8\n"
     ]
    }
   ],
   "source": [
    "partido = 'morena'\n",
    "Y = distritos['y_{}'.format(partido)]\n",
    "X = distritos[['candidato_{}_mujer'.format(partido),\n",
    "               'pobreza_2015_%', 'diff_{}'.format(partido)]]\n",
    "X = sm.add_constant(X)\n",
    "model = sm.Logit(Y, X).fit()"
   ]
  },
  {
   "cell_type": "code",
   "execution_count": 133,
   "metadata": {},
   "outputs": [],
   "source": [
    "Y_hat_ps = model.predict(X)"
   ]
  },
  {
   "cell_type": "code",
   "execution_count": 135,
   "metadata": {},
   "outputs": [
    {
     "name": "stdout",
     "output_type": "stream",
     "text": [
      "0 0 | 1 0 | 0 0 | 1 1 | 1 1 | 1 1 | 1 1 | 1 1 | 1 1 | 1 1 | 1 1 | 1 1 | 1 1 | 1 0 | 1 1 | 0 0 | 1 1 | 1 1 | 0 0 | 0 0 | 1 1 | 0 1 | 1 1 | 1 1 | 1 1 | 1 1 | 1 1 | 1 1 | 1 1 | 1 1 | 1 1 | 1 1 | 1 1 | 1 1 | 0 0 | 1 1 | 1 1 | 1 1 | 1 1 | 1 1 | 1 0 | 0 0 | 0 0 | 1 1 | 0 0 | 0 0 | 1 1 | 1 0 | 1 0 | 1 0 | 1 0 | 1 0 | 1 0 | 1 0 | 1 0 | 1 0 | 1 0 | 1 0 | 1 0 | 1 0 | 0 0 | 1 0 | 1 0 | 1 0 | 1 0 | 1 0 | 1 1 | 1 0 | 1 0 | 1 0 | 0 0 | 1 1 | 1 1 | 0 0 | 0 0 | 0 0 | 0 0 | 0 0 | 0 0 | 0 0 | 0 0 | 1 1 | 0 0 | 0 0 | 0 0 | 0 0 | 0 0 | 0 0 | 0 0 | 1 1 | 1 1 | 1 1 | 1 1 | 1 1 | 0 0 | 1 1 | 1 1 | 1 1 | 1 1 | 1 1 | 1 1 | 1 1 | 1 1 | 1 1 | 1 1 | 0 0 | 0 0 | 0 0 | 1 1 | 1 1 | 0 0 | 1 1 | 0 0 | 1 1 | 0 0 | 1 1 | 0 1 | 0 0 | 0 1 | 1 0 | 1 1 | 0 0 | 1 0 | 0 0 | 0 0 | 1 1 | 1 1 | 1 1 | 1 1 | 1 1 | 1 1 | 1 1 | 1 1 | 0 1 | 1 1 | 1 1 | 1 1 | 1 1 | 1 1 | 1 1 | 1 1 | 1 1 | 1 0 | 1 1 | 1 1 | 1 1 | 1 1 | 1 1 | 1 1 | 1 1 | 1 1 | 1 1 | 1 1 | 1 1 | 1 1 | 1 1 | 1 1 | 1 1 | 1 1 | 1 1 | 1 1 | 1 1 | 1 0 | 1 1 | 1 1 | 1 1 | 1 1 | 0 0 | 1 0 | 1 1 | 1 0 | 1 0 | 1 0 | 1 1 | 1 1 | 1 0 | 1 0 | 1 1 | 1 0 | 1 1 | 1 1 | 1 1 | 1 1 | 1 1 | 1 1 | 1 1 | 0 0 | 0 0 | 0 0 | 0 0 | 0 0 | 0 0 | 0 0 | 0 0 | 0 0 | 0 0 | 0 0 | 1 0 | 1 1 | 1 1 | 1 1 | 1 1 | 1 1 | 1 1 | 1 1 | 1 1 | 1 1 | 1 1 | 1 1 | 0 0 | 1 0 | 1 1 | 1 1 | 1 1 | 1 1 | 1 0 | 1 1 | 1 1 | 1 1 | 1 1 | 1 1 | 1 1 | 1 1 | 0 0 | 1 1 | 1 1 | 0 0 | 0 0 | 1 1 | 1 1 | 1 1 | 1 1 | 0 0 | 0 0 | 0 0 | 1 1 | 0 0 | 1 1 | 0 0 | 1 1 | 1 1 | 1 1 | 1 1 | 1 1 | 1 1 | 1 1 | 1 1 | 1 1 | 1 1 | 1 1 | 1 1 | 1 1 | 1 1 | 1 1 | 1 1 | 1 1 | 1 1 | 1 1 | 1 1 | 0 1 | 1 1 | 0 1 | 1 1 | 0 0 | 0 0 | 1 1 | 1 1 | 1 1 | 1 0 | 1 1 | 1 1 | 0 1 | 0 0 | 1 1 | 1 1 | 1 1 | 1 1 | 1 1 | 1 1 | 1 0 | 1 1 | 1 1 | 0 0 | 1 1 | 1 1 | 1 1 | 1 1 | 1 1 | 1 1 | 1 1 | 1 1 | 0 0 | 0 0 | 0 1 | 0 0 | 0 0 | 1 1 | 0 0 | 1 1 | 1 0 | Fitness: 0.8366666666666667\n",
      "224\n",
      "191\n"
     ]
    }
   ],
   "source": [
    "suma_correct = 0\n",
    "suma_y_1 = 0\n",
    "threshold = distritos['y_{}'.format(partido)].sum() / 300\n",
    "for i in range(300):\n",
    "    true_y = distritos['y_{}'.format(partido)][i]\n",
    "    y_hat_p = Y_hat_ps[i]\n",
    "    if y_hat_p >= threshold:\n",
    "        y_hat = 1\n",
    "    else:\n",
    "        y_hat = 0\n",
    "    if true_y == y_hat:\n",
    "        suma_correct += 1\n",
    "    suma_y_1 += y_hat\n",
    "    print(true_y, y_hat, end=' | ')\n",
    "print('Fitness:', suma_correct / 300)\n",
    "print(distritos['y_{}'.format(partido)].sum())\n",
    "print(suma_y_1)"
   ]
  },
  {
   "cell_type": "markdown",
   "metadata": {},
   "source": [
    "### _______percent correctly predicted\n",
    "### _______threshold = .5\n",
    "    problem .5: misleading (we hope to have some ability to predict the least likely outcome)"
   ]
  },
  {
   "cell_type": "code",
   "execution_count": null,
   "metadata": {},
   "outputs": [],
   "source": [
    "godness_sum = 0\n",
    "Y_hat = []\n",
    "threshold = .5 # promedio\n",
    "for i in range(300):\n",
    "    true_y = distritos['y_{}'.format(partido)][i]\n",
    "    if Y_hat_ps[i] >= threshold:\n",
    "        y_hat = 1\n",
    "    else:\n",
    "        y_hat = 0\n",
    "    Y_hat.append(y_hat)\n",
    "    if true_y == y_hat:\n",
    "        godness_sum += 1    \n",
    "print('goodness-of-fit:', godness_sum / 300)"
   ]
  },
  {
   "cell_type": "code",
   "execution_count": null,
   "metadata": {},
   "outputs": [],
   "source": [
    "sum(Y_hat)"
   ]
  },
  {
   "cell_type": "code",
   "execution_count": null,
   "metadata": {},
   "outputs": [],
   "source": [
    "distritos['y_{}'.format(partido)].sum()"
   ]
  },
  {
   "cell_type": "markdown",
   "metadata": {},
   "source": [
    "### ____threshold = succes rate\n",
    "    Some have criticized the prediction rule just described for using a threshold value of .5,\n",
    "    especially when one of the outcomes is unlikely"
   ]
  },
  {
   "cell_type": "code",
   "execution_count": null,
   "metadata": {},
   "outputs": [],
   "source": [
    "godness_sum = 0\n",
    "Y_hat = []\n",
    "threshold = distritos['y_{}'.format(partido)].sum() / 300\n",
    "for i in range(300):\n",
    "    true_y = distritos['y_{}'.format(partido)][i]\n",
    "    if Y_hat_ps[i] >= threshold:\n",
    "        y_hat = 1\n",
    "    else:\n",
    "        y_hat = 0\n",
    "    Y_hat.append(y_hat)\n",
    "    if true_y == y_hat:\n",
    "        godness_sum += 1    \n",
    "print('goodness-of-fit:', godness_sum / 300)"
   ]
  },
  {
   "cell_type": "markdown",
   "metadata": {},
   "source": [
    "Tarea (págs 589-596 Wooldridge):\n",
    "### ____threshold = trial\n",
    "    upside:\n",
    "         bootstraping\n",
    "         loss functions"
   ]
  },
  {
   "cell_type": "markdown",
   "metadata": {},
   "source": [
    "# Tobit"
   ]
  },
  {
   "cell_type": "markdown",
   "metadata": {},
   "source": [
    "En el caso del modelo tobit nos interesa ver cómo son afectadas las estimaciones si la variable dependiente tiene una alta concentración en un valor específico y para el resto de los valores hay una distribución relativamente continua.\n",
    "\n",
    "Por ejemplo la compra de alcohol en un mes\n",
    "\n",
    "Literatura: modelos de solución de esquina\n",
    "\n",
    "La concentración de valores para la variable dependiente puede llevarnos a un sesgo si queremos estimar el efecto de un cambio marginal en $x_{k}$ para los valores de la variable dependiente donde existe una distribución continua (es decir, omitiendo $y's=0$, por ejemplo los que no consumen alcohol).\n",
    "\n",
    "$Y^{*} = X\\beta + U$\n",
    "\n",
    "$spg: y_{i} = max(0, y_{i}^*)$"
   ]
  },
  {
   "cell_type": "code",
   "execution_count": 138,
   "metadata": {},
   "outputs": [],
   "source": [
    "equipos: {1: ('Martín', 'Valeria'),\n",
    "          2: ('Joaquín Rincón'),\n",
    "          3: ('Fernando', 'Isaac'),\n",
    "          4: ('María José', 'Luis Mariscal'),\n",
    "          5: ('Joaquín Licea', 'Carolina'),\n",
    "          6: ('Santiago', 'José Ángel'),\n",
    "          7: ('Eliut', 'Manuel')}"
   ]
  },
  {
   "cell_type": "markdown",
   "metadata": {},
   "source": [
    "    1++++++:\n",
    "        i's:\n",
    "        cuadrantes\n",
    "        --------------------------------\n",
    "        y: comprar o no comprar inmueble\n",
    "           p(y=compre|X)\n",
    "        x_1: precio inmueble        \n",
    "        x_2: escuelas\n",
    "        x_3 supers\n",
    "        x_3 hospitales\n",
    "        \n",
    "    2 cross sectional (PANEL):\n",
    "        y: p(y=piloto_gane_una_carrera)\n",
    "        x: numero de victorias por escuderia\n",
    "        x: desempeño\n",
    "        x: lugar carrera\n",
    "        x: condiciones climaotlogicas\n",
    "        x: pole position - el final\n",
    "\n",
    "    3 (PANEL)\n",
    "    i's jugadores\n",
    "    t's temporadas\n",
    "        y: P(delante_valor_incremente=1)\n",
    "        x: goles\n",
    "        x: nacionalidad\n",
    "        x: edad\n",
    "        x: desempeño\n",
    "            goles\n",
    "        x: gana o no competencias\n",
    "    \n",
    "    4  Cross Sectional / PANEL\n",
    "        \n",
    "        i's\n",
    "        \n",
    "            mujeres q suf viole\n",
    "            muje_i\n",
    "                mujer i\n",
    "                hombre mujer i\n",
    "                consumo sustancias\n",
    "        i's\n",
    "            mpos_mexico\n",
    "        \n",
    "        Data\n",
    "            OMS\n",
    "            INEGI\n",
    "        Encuesta\n",
    "        Denuncias\n",
    "        y p(mujer_violencia_domestica=_municipio1)\n",
    "        feminicios_mpo>promedio_nacional\n",
    "            \n",
    "\n",
    "        x educacion hombre\n",
    "        x educacion mujer\n",
    "        x ingreso\n",
    "        x uso nocivo sustancias\n",
    "        x edad    \n",
    "\n",
    "    5 (cross sectional | PANEL)\n",
    "    y: P(probabilidad de que colapse el sistema de salud)\n",
    "    x proporcion de personas mayores a 60 en el país\n",
    "    x camas disponibles\n",
    "    x ventiladores\n",
    "    x altas y bajas y pacientes\n",
    "    x ranking salud (OMS)    \n",
    "    -------\n",
    "    X numeros casos (tasa)\n",
    "    X acciones\n",
    "    X equipo de protección personal trabajadores de salud    \n",
    "\n",
    "    6++++++ (PANEL = time series + cross section)\n",
    "    i's estados de mexico (32) \n",
    "    t's dias (dias)\n",
    "    Coronovirus    \n",
    "        y: p(tasa_mortandad_subio=1)\n",
    "        x: camas disponibles (terapia intensiva / ventiladores) / por cada 100 personas mayores a 65\n",
    "        x: hospitales\n",
    "      \n",
    "      Panel\n",
    "      i's paises\n",
    "      t's dias\n",
    "      \n",
    "      P(y)\n",
    "      si los países achatan o no la curva\n",
    "      x de acciones los países\n",
    "      X numero de casos por paises        \n",
    "\n",
    "    7 (PANEL)\n",
    "    a) credit risk model (XXXXX)\n",
    "        y:  \n",
    "        x: \n",
    "    \n",
    "    b) BVM \n",
    "     y: p(y=ganar)\n",
    "     x: nivel de endeudamiento\n",
    "     x: inflacion\n",
    "     x: rendimiento de mercado\n",
    "     x: rendimiento de accion\n",
    "     x: tasa impositiva aplicable"
   ]
  },
  {
   "cell_type": "markdown",
   "metadata": {},
   "source": [
    "# Cuenta github andrés:\n",
    "# andrespdlr"
   ]
  },
  {
   "cell_type": "markdown",
   "metadata": {},
   "source": [
    "# Tareas para el sábado\n",
    "    - Abrir una cuenta de github por equipo\n",
    "    - invitarme de colaborador (andrespdlr):\n",
    "    - subir las tareas definidas arriba al repositorio"
   ]
  },
  {
   "cell_type": "markdown",
   "metadata": {},
   "source": [
    "# TAREA IMPORTANTE (miniexamen) para el jueves\n",
    "    Presentar proyecto de investigación    \n",
    "    statement del proyecto\n",
    "    - objetivo de la investigación\n",
    "    - motivación de la investigación\n",
    "        - por qué y para qué es importante\n",
    "    - especificación y justificación del modelo\n",
    "        - la justificación debe incluir un par de párrafos \n",
    "          de la teoría que está detrás de su selección de variables\n",
    "    - descripcion de bases de datos\n",
    "        - cómo la van a obtener\n",
    "        - tamaño (n)\n",
    "        - fuente\n",
    "        - variables, etc\n",
    "    - literatura que van a revisar para fortalecer la teoría y posibles extensiones"
   ]
  }
 ],
 "metadata": {
  "kernelspec": {
   "display_name": "Python 3",
   "language": "python",
   "name": "python3"
  },
  "language_info": {
   "codemirror_mode": {
    "name": "ipython",
    "version": 3
   },
   "file_extension": ".py",
   "mimetype": "text/x-python",
   "name": "python",
   "nbconvert_exporter": "python",
   "pygments_lexer": "ipython3",
   "version": "3.7.4"
  }
 },
 "nbformat": 4,
 "nbformat_minor": 2
}
