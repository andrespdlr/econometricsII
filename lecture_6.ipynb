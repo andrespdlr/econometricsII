{
 "cells": [
  {
   "cell_type": "code",
   "execution_count": 158,
   "metadata": {},
   "outputs": [],
   "source": [
    "from random import randint"
   ]
  },
  {
   "cell_type": "code",
   "execution_count": 159,
   "metadata": {},
   "outputs": [],
   "source": [
    "alumnos = ['Carolina Sánchez',\n",
    "           'Eliut Rodríguez',\n",
    "           'Fernando Durán',\n",
    "           'Issac Vergara',\n",
    "           'Joaquín Licea',\n",
    "           'Joaquín Rincón',\n",
    "           'José Ángel Tovar',\n",
    "           'Luis Montealegre ',\n",
    "           'Manuel Díaz',\n",
    "           'María José Gutiérrez',\n",
    "           'Martín Wulf',\n",
    "           'Santiago Sánchez',\n",
    "           'Valeria Gómez del Campo']"
   ]
  },
  {
   "cell_type": "code",
   "execution_count": 160,
   "metadata": {},
   "outputs": [],
   "source": [
    "def extract_alumno():\n",
    "    alumno = alumnos[randint(1, 13) - 1]\n",
    "    return alumno "
   ]
  },
  {
   "cell_type": "code",
   "execution_count": 162,
   "metadata": {},
   "outputs": [
    {
     "data": {
      "text/plain": [
       "{'Valeria Gómez del Campo': 76,\n",
       " 'María José Gutiérrez': 83,\n",
       " 'Issac Vergara': 80,\n",
       " 'Santiago Sánchez': 72,\n",
       " 'Fernando Durán': 88,\n",
       " 'José Ángel Tovar': 87,\n",
       " 'Martín Wulf': 74,\n",
       " 'Carolina Sánchez': 77,\n",
       " 'Joaquín Licea': 63,\n",
       " 'Luis Montealegre ': 80,\n",
       " 'Manuel Díaz': 69,\n",
       " 'Eliut Rodríguez': 66,\n",
       " 'Joaquín Rincón': 85}"
      ]
     },
     "execution_count": 162,
     "metadata": {},
     "output_type": "execute_result"
    }
   ],
   "source": [
    "count_alumnos = {} \n",
    "for i in range(1000):\n",
    "    alumno = extract_alumno()\n",
    "    if alumno in count_alumnos:\n",
    "        count_alumnos[alumno] += 1\n",
    "    else:\n",
    "        count_alumnos[alumno] = 1\n",
    "count_alumnos"
   ]
  },
  {
   "cell_type": "markdown",
   "metadata": {},
   "source": [
    "# Tobit\n",
    "\n",
    "Variables continuas que están acotadas estructuralmente en alguno de sus extremos típicamente son analizadas mediante modelos Tobit, censored regressions o truncated models.\n",
    "\n",
    "En particular el modelo Tobit es últil para analizar casos donde la variable independiente está acotada en alguno de los extremos con una masa positiva de observaciones concentrada en ese extremo pero sin acotar en el otro."
   ]
  },
  {
   "cell_type": "markdown",
   "metadata": {},
   "source": [
    "En el caso del modelo tobit nos interesa ver cómo son afectadas las estimaciones si la variable dependiente tiene una alta concentración en un valor específico y para el resto de los valores hay una distribución relativamente continua.\n",
    "\n",
    "Por ejemplo la compra de alcohol en un mes\n",
    "\n",
    "La concentración de valores para la variable dependiente puede llevarnos a un sesgo si queremos estimar el efecto de un cambio marginal en $x_{j}$ para los valores de la variable dependiente donde existe una distribución continua (es decir, omitiendo $y \\mid y=0$, como en el ejemplo de arriba a los que no consumen alcohol)."
   ]
  },
  {
   "cell_type": "markdown",
   "metadata": {},
   "source": [
    "En este sentido, supongamos que tenemos una v.a. $y$ continua para valores estrictamente positivos$^{1}$, pero $P(y=0) > 0$-\n",
    "\n",
    "En prinicipio podemos usar un modelo OLS lineal para atender una distribución como la que está descrita arriba. De hecho, un modelo lineal puede ser una buena aproximación para $E(y|x_{1}, x_{2}, ..., x_{k})$ para las $x_{j}$ que están cercanas a la media. Sin embargo, es posible obtener predictores ($\\hat{y}$) negativos para $y$ (¡recuerda por qué desechamos el modelo LPM!). \n",
    "\n",
    "Por otro lado, la interpretación asociada a los modelos lineales según la cual $\\beta_{j}$ representa el efecto parcial de $x_{j}$ sobre $y$ puede ser incorrecto en este caso.\n",
    "\n",
    "En ocasiones es importante tener un modelo que estructuralmente impida predictores $\\hat{y}$ negativos permitiendo a la vez efectos parciales para conjuntos \"amplios\" en el dominio de las variables explicativas $X \\in {\\Bbb R}^{k}$\n",
    "\n",
    "$$y^{*} = \\beta_{0} + X\\beta + u$$\n",
    "\n",
    "$$u \\sim N(0, \\sigma^2) \\hspace{50pt} (h1)$$\n",
    "\n",
    "$$y = max(0, y^{*})$$\n",
    "\n",
    "El supuesto $(h1)$ en los errores nos permite asegurar que la probabilidad condicional de $y$ dado $X$ es la misma que $y^{*}$ dado $X$ para $X \\geq 0$\n",
    "\n",
    "$$P(y=0 \\mid X) = P(y^{*} <0 \\mid X) = P(u<-X\\beta \\mid X)$$\n",
    "\n",
    "$$P(u<-X\\beta \\mid X) = P(\\frac{u}{\\sigma}<\\frac{-X\\beta}{\\sigma} \\mid X)$$\n",
    "\n",
    "$$\\Phi(\\frac{-X\\beta}{\\sigma}) = 1 - \\Phi(\\frac{X\\beta}{\\sigma}) \\hspace{50pt} \\beta = [\\beta_{0}, \\beta_{1}, ..., \\beta_{k}]$$\n",
    "\n",
    "La versión muestral:\n",
    "\n",
    "$$P(y_{i}=0 \\mid X_{i}) = 1 - \\Phi(\\frac{X_{i}\\beta}{\\sigma})$$\n",
    "\n",
    "$$\\ell(\\beta, \\sigma) \\hspace{50pt} PowerPoint$$ \n",
    "\n",
    "$$\\max_{\\beta,\\, \\sigma} \\sum\\limits_{i=1}^{n}\\ell(\\beta, \\sigma)$$\n",
    "\n",
    "La solución al problema de optimización requere métodos numéricos de manera que típicamente utilizamos paquetes computacionales.\n",
    "\n",
    "Es común que los estimadores para $\\beta$ de un modelo Tobit se parezcan a los de una regresión lineal simple. El error común es ineterpretarlos como si fueran el resultado del mismo proceso, concretamente como si representaran los efectos parciales de $x_{j}$ sobre $y$\n",
    "\n",
    "NOrmalmente queremos explicar $y$, no $y*$\n",
    "___________\n",
    "$^{1}$/ Sin pérdida de generalidad asumimos que la distribución de $y$ está concentrada en 0."
   ]
  },
  {
   "cell_type": "code",
   "execution_count": 86,
   "metadata": {},
   "outputs": [],
   "source": [
    "import warnings\n",
    "warnings.filterwarnings(\"ignore\")"
   ]
  },
  {
   "cell_type": "code",
   "execution_count": 140,
   "metadata": {},
   "outputs": [],
   "source": [
    "from pymongo import MongoClient\n",
    "import pandas as pd\n",
    "import matplotlib.pyplot as plt"
   ]
  },
  {
   "cell_type": "code",
   "execution_count": 3,
   "metadata": {},
   "outputs": [],
   "source": [
    "def download_data_from_mongoatlas(database, table, query={}):\n",
    "    username, password = 'entropy_scholar', 'OCN4kEzbsW5lqQ2W'\n",
    "    url = 'mongodb+srv://{}:{}@entropy-sfneo.mongodb.net/test?retryWrites=true&w=majority'.format(username, password)\n",
    "    client = MongoClient(url)\n",
    "    db = client[database]\n",
    "    collection = db[table]\n",
    "    df = pd.DataFrame(list(collection.find(query))).drop('_id', axis=1)\n",
    "    try:\n",
    "        df = df.sort_values(['date','clave_mun'], ascending=True)\n",
    "    except:\n",
    "        df = df.sort_values(['date'], ascending=True)\n",
    "    return df"
   ]
  },
  {
   "cell_type": "code",
   "execution_count": 61,
   "metadata": {},
   "outputs": [],
   "source": [
    "modalidades_agregados = {'homicidio_doloso': ['1HDF', '1HDB', '1HDE', '1HDN'],\n",
    "                        'extorsion': ['4EEE'],\n",
    "                        'feminicidio': ['1FFF', '1FFB', '1FFE', '1FFN'],\n",
    "                        'secuestro': ['2SSE', '2SSC', '2SSD', '2SSX', '2SSO'],\n",
    "                        'robo_maquinaria': ['4RMA', '4RMB', '4RMC', '4RMD', '4RMF', '4RME'],\n",
    "                        'robo_negocio': ['4RNC', '4RNS'],\n",
    "                        'robo_bancos': ['4RBC', '4RBS'],\n",
    "                        'robo_transportistas': ['4RPC', '4RPS'],\n",
    "                        'robo_vehiculos': ['4RVA', '4RVB', '4RVM', '4RVN', '4RVE', '4RVF', '4RAC', '4RAS'],\n",
    "                        'robo_casa': ['4RHC', '4RHS']}\n",
    "\n",
    "modalidades_nombres = {'homicidio_doloso': 'Homicidio Doloso',\n",
    "                       'extorsion': 'Extorsión',\n",
    "                       'feminicidio': 'Feminicidios',\n",
    "                       'secuestro': 'Secuestro',\n",
    "                       'robo_maquinaria': 'Robo Maquinaria',\n",
    "                       'robo_negocio': 'Robo Negocios',\n",
    "                       'robo_bancos': 'Robo Bancos',\n",
    "                       'robo_transportistas': 'Robo Transportistas',\n",
    "                       'robo_vehiculos': 'Robo Vehículos',\n",
    "                       'robo_casa': 'Robo Casa'}"
   ]
  },
  {
   "cell_type": "code",
   "execution_count": 13,
   "metadata": {},
   "outputs": [],
   "source": [
    "def extract_df_between_dates(df, start_date, end_date):\n",
    "    df_fechas = df.loc[(df['date'] >= start_date) & (df['date'] <= end_date)]\n",
    "    df_fechas = df_fechas.sort_values(['date', 'clave_mun'], ascending=True)\n",
    "    df_fechas = df_fechas.reset_index(drop=True)    \n",
    "    return df_fechas"
   ]
  },
  {
   "cell_type": "code",
   "execution_count": 114,
   "metadata": {},
   "outputs": [],
   "source": [
    "def extract_df_modalidad(df, modalidad):\n",
    "    df_modalidad = df[['clave_mun'] + modalidades_agregados[modalidad]]\n",
    "    df_modalidad[modalidad] = [0] * len(df_modalidad)\n",
    "    for m_code in modalidades_agregados[modalidad]:\n",
    "        df_modalidad[modalidad] += df_modalidad[m_code]\n",
    "    df_modalidad = df_modalidad.drop(modalidades_agregados[modalidad], axis=1)\n",
    "    return df_modalidad"
   ]
  },
  {
   "cell_type": "code",
   "execution_count": 125,
   "metadata": {},
   "outputs": [],
   "source": [
    "def extract_mpos_poblacion(df, date):\n",
    "    df_date = df.loc[df['date'] == date]\n",
    "    df_date = df_date[['clave_mun', 'pob']]\n",
    "    df_date = df_date.reset_index(drop=True)\n",
    "    return df_date"
   ]
  },
  {
   "cell_type": "code",
   "execution_count": 134,
   "metadata": {},
   "outputs": [],
   "source": [
    "def create_tasa_100mil(df, column):\n",
    "    tasas = []\n",
    "    for i in range(len(df)):\n",
    "        v = df[column][i]\n",
    "        p = df['pob'][i]\n",
    "        v_tasa = v / (p / 100000)\n",
    "        tasas.append(v_tasa)\n",
    "    df[column + '_tasa'] = tasas\n",
    "    return df"
   ]
  },
  {
   "cell_type": "code",
   "execution_count": 4,
   "metadata": {},
   "outputs": [],
   "source": [
    "snsp_mpos = download_data_from_mongoatlas('sesnsp', 'municipal_carpetas')"
   ]
  },
  {
   "cell_type": "code",
   "execution_count": 173,
   "metadata": {},
   "outputs": [],
   "source": [
    "start_date = '2015/02'\n",
    "end_date = '2020/02'\n",
    "snsp_mpos_dates = extract_df_between_dates(snsp_mpos, start_date, end_date)"
   ]
  },
  {
   "cell_type": "code",
   "execution_count": 174,
   "metadata": {},
   "outputs": [],
   "source": [
    "snsp_mpos_agg = snsp_mpos_dates.groupby(['clave_mun']).sum()\n",
    "snsp_mpos_agg = snsp_mpos_agg.drop(['pob', 'año', 'mes'], axis=1)\n",
    "snsp_mpos_agg = snsp_mpos_agg.reset_index()"
   ]
  },
  {
   "cell_type": "code",
   "execution_count": 175,
   "metadata": {},
   "outputs": [],
   "source": [
    "snsp_mpos_agg_homicidio = extract_df_modalidad(snsp_mpos_agg, 'homicidio_doloso')"
   ]
  },
  {
   "cell_type": "code",
   "execution_count": 176,
   "metadata": {},
   "outputs": [],
   "source": [
    "mpos_poblacion = extract_mpos_poblacion(snsp_mpos, '2020/02')"
   ]
  },
  {
   "cell_type": "code",
   "execution_count": 177,
   "metadata": {},
   "outputs": [],
   "source": [
    "snsp_mpos_agg_homicidio = snsp_mpos_agg_homicidio.merge(mpos_poblacion,\n",
    "                                                          on='clave_mun')"
   ]
  },
  {
   "cell_type": "code",
   "execution_count": 178,
   "metadata": {},
   "outputs": [],
   "source": [
    "snsp_mpos_agg_homicidio = create_tasa_100mil(snsp_mpos_agg_homicidio, 'homicidio_doloso')"
   ]
  },
  {
   "cell_type": "code",
   "execution_count": 182,
   "metadata": {},
   "outputs": [
    {
     "data": {
      "image/png": "[encoded data removed]",
      "text/plain": [
       "<Figure size 360x360 with 1 Axes>"
      ]
     },
     "metadata": {
      "needs_background": "light"
     },
     "output_type": "display_data"
    }
   ],
   "source": [
    "fig = plt.figure(figsize=(5, 5))\n",
    "plt.title('Distribución Homicidios Dolosos x Municipio\\nTasa x 100 mil Habitantes')\n",
    "plt.hist(snsp_mpos_agg_homicidio['homicidio_doloso_tasa'], bins=150)\n",
    "plt.show()"
   ]
  },
  {
   "cell_type": "markdown",
   "metadata": {},
   "source": [
    "### Discusión: Qué variables pueden alimentar a X\n",
    "y = F(X)"
   ]
  },
  {
   "cell_type": "markdown",
   "metadata": {},
   "source": [
    "# Qué sigue:\n",
    "# Tobit\n",
    "\n",
    "# 1) Inferencia\n",
    "### t statistics\n",
    "### Wald test\n",
    "\n",
    "# 2) Panel\n",
    "i's Municipios (cross sectional)\n",
    "t's los meses (time series)\n",
    "\n",
    "***Efectos fijos"
   ]
  },
  {
   "cell_type": "markdown",
   "metadata": {},
   "source": [
    "# Mini Examen\n",
    "\n",
    "Objetivo:\n",
    "- Presentar un buen proyecto de investigación\n",
    "\n",
    "Se calificará:\n",
    "- Originalidad del modelo\n",
    "- Consistencia y relevancia de la pregunta\n",
    "- Factibilidad\n",
    "- En genaral: uso del conocimiento en econometría II \n",
    "\n",
    "Entregable:\n",
    "- ipynb\n",
    "- uso $\\LaTeX $"
   ]
  },
  {
   "cell_type": "code",
   "execution_count": null,
   "metadata": {},
   "outputs": [],
   "source": []
  }
 ],
 "metadata": {
  "kernelspec": {
   "display_name": "Python 3",
   "language": "python",
   "name": "python3"
  },
  "language_info": {
   "codemirror_mode": {
    "name": "ipython",
    "version": 3
   },
   "file_extension": ".py",
   "mimetype": "text/x-python",
   "name": "python",
   "nbconvert_exporter": "python",
   "pygments_lexer": "ipython3",
   "version": "3.7.4"
  }
 },
 "nbformat": 4,
 "nbformat_minor": 2
}
